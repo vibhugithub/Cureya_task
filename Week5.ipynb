{
  "nbformat": 4,
  "nbformat_minor": 0,
  "metadata": {
    "colab": {
      "name": "Week5.ipynb",
      "provenance": [],
      "collapsed_sections": [
        "8lcrPviQS0wT",
        "xJ12l43xTK3V"
      ],
      "authorship_tag": "ABX9TyO+B8K2AmboXFBGBNv299Vq"
    },
    "kernelspec": {
      "name": "python3",
      "display_name": "Python 3"
    },
    "language_info": {
      "name": "python"
    }
  },
  "cells": [
    {
      "cell_type": "code",
      "metadata": {
        "id": "TnW4DajKSOWk"
      },
      "source": [
        "!pip install --upgrade pandas"
      ],
      "execution_count": null,
      "outputs": []
    },
    {
      "cell_type": "code",
      "metadata": {
        "id": "ooXhLju3SRYy"
      },
      "source": [
        "!pip install --upgrade pandas-datareader"
      ],
      "execution_count": null,
      "outputs": []
    },
    {
      "cell_type": "code",
      "metadata": {
        "id": "BPmaQ3VESW-m"
      },
      "source": [
        "import math\n",
        "import numpy as np\n",
        "import pandas as pd\n",
        "import pandas_datareader as web\n",
        "import seaborn as sns\n",
        "from sklearn.preprocessing import MinMaxScaler\n",
        "from sklearn.metrics import mean_squared_error\n",
        "from keras.models import Sequential\n",
        "from keras.layers import Dense, LSTM\n",
        "import matplotlib.pyplot as plt\n",
        "plt.style.use(\"fivethirtyeight\")"
      ],
      "execution_count": 3,
      "outputs": []
    },
    {
      "cell_type": "code",
      "metadata": {
        "colab": {
          "base_uri": "https://localhost:8080/",
          "height": 447
        },
        "id": "EjI0pZsZSj18",
        "outputId": "6623e4e8-110e-4bc7-86aa-527d864532b6"
      },
      "source": [
        "df = web.DataReader('AAPL', data_source='yahoo', start='2012-01-01', end='2019-12-17')\n",
        "df"
      ],
      "execution_count": 4,
      "outputs": [
        {
          "output_type": "execute_result",
          "data": {
            "text/html": [
              "<div>\n",
              "<style scoped>\n",
              "    .dataframe tbody tr th:only-of-type {\n",
              "        vertical-align: middle;\n",
              "    }\n",
              "\n",
              "    .dataframe tbody tr th {\n",
              "        vertical-align: top;\n",
              "    }\n",
              "\n",
              "    .dataframe thead th {\n",
              "        text-align: right;\n",
              "    }\n",
              "</style>\n",
              "<table border=\"1\" class=\"dataframe\">\n",
              "  <thead>\n",
              "    <tr style=\"text-align: right;\">\n",
              "      <th></th>\n",
              "      <th>High</th>\n",
              "      <th>Low</th>\n",
              "      <th>Open</th>\n",
              "      <th>Close</th>\n",
              "      <th>Volume</th>\n",
              "      <th>Adj Close</th>\n",
              "    </tr>\n",
              "    <tr>\n",
              "      <th>Date</th>\n",
              "      <th></th>\n",
              "      <th></th>\n",
              "      <th></th>\n",
              "      <th></th>\n",
              "      <th></th>\n",
              "      <th></th>\n",
              "    </tr>\n",
              "  </thead>\n",
              "  <tbody>\n",
              "    <tr>\n",
              "      <th>2012-01-03</th>\n",
              "      <td>14.732143</td>\n",
              "      <td>14.607143</td>\n",
              "      <td>14.621429</td>\n",
              "      <td>14.686786</td>\n",
              "      <td>302220800.0</td>\n",
              "      <td>12.610315</td>\n",
              "    </tr>\n",
              "    <tr>\n",
              "      <th>2012-01-04</th>\n",
              "      <td>14.810000</td>\n",
              "      <td>14.617143</td>\n",
              "      <td>14.642857</td>\n",
              "      <td>14.765714</td>\n",
              "      <td>260022000.0</td>\n",
              "      <td>12.678085</td>\n",
              "    </tr>\n",
              "    <tr>\n",
              "      <th>2012-01-05</th>\n",
              "      <td>14.948214</td>\n",
              "      <td>14.738214</td>\n",
              "      <td>14.819643</td>\n",
              "      <td>14.929643</td>\n",
              "      <td>271269600.0</td>\n",
              "      <td>12.818838</td>\n",
              "    </tr>\n",
              "    <tr>\n",
              "      <th>2012-01-06</th>\n",
              "      <td>15.098214</td>\n",
              "      <td>14.972143</td>\n",
              "      <td>14.991786</td>\n",
              "      <td>15.085714</td>\n",
              "      <td>318292800.0</td>\n",
              "      <td>12.952841</td>\n",
              "    </tr>\n",
              "    <tr>\n",
              "      <th>2012-01-09</th>\n",
              "      <td>15.276786</td>\n",
              "      <td>15.048214</td>\n",
              "      <td>15.196429</td>\n",
              "      <td>15.061786</td>\n",
              "      <td>394024400.0</td>\n",
              "      <td>12.932299</td>\n",
              "    </tr>\n",
              "    <tr>\n",
              "      <th>...</th>\n",
              "      <td>...</td>\n",
              "      <td>...</td>\n",
              "      <td>...</td>\n",
              "      <td>...</td>\n",
              "      <td>...</td>\n",
              "      <td>...</td>\n",
              "    </tr>\n",
              "    <tr>\n",
              "      <th>2019-12-11</th>\n",
              "      <td>67.775002</td>\n",
              "      <td>67.125000</td>\n",
              "      <td>67.202499</td>\n",
              "      <td>67.692497</td>\n",
              "      <td>78756800.0</td>\n",
              "      <td>66.799057</td>\n",
              "    </tr>\n",
              "    <tr>\n",
              "      <th>2019-12-12</th>\n",
              "      <td>68.139999</td>\n",
              "      <td>66.830002</td>\n",
              "      <td>66.945000</td>\n",
              "      <td>67.864998</td>\n",
              "      <td>137310400.0</td>\n",
              "      <td>66.969292</td>\n",
              "    </tr>\n",
              "    <tr>\n",
              "      <th>2019-12-13</th>\n",
              "      <td>68.824997</td>\n",
              "      <td>67.732498</td>\n",
              "      <td>67.864998</td>\n",
              "      <td>68.787498</td>\n",
              "      <td>133587600.0</td>\n",
              "      <td>67.879601</td>\n",
              "    </tr>\n",
              "    <tr>\n",
              "      <th>2019-12-16</th>\n",
              "      <td>70.197502</td>\n",
              "      <td>69.245003</td>\n",
              "      <td>69.250000</td>\n",
              "      <td>69.964996</td>\n",
              "      <td>128186000.0</td>\n",
              "      <td>69.041557</td>\n",
              "    </tr>\n",
              "    <tr>\n",
              "      <th>2019-12-17</th>\n",
              "      <td>70.442497</td>\n",
              "      <td>69.699997</td>\n",
              "      <td>69.892502</td>\n",
              "      <td>70.102501</td>\n",
              "      <td>114158400.0</td>\n",
              "      <td>69.177261</td>\n",
              "    </tr>\n",
              "  </tbody>\n",
              "</table>\n",
              "<p>2003 rows × 6 columns</p>\n",
              "</div>"
            ],
            "text/plain": [
              "                 High        Low       Open      Close       Volume  Adj Close\n",
              "Date                                                                          \n",
              "2012-01-03  14.732143  14.607143  14.621429  14.686786  302220800.0  12.610315\n",
              "2012-01-04  14.810000  14.617143  14.642857  14.765714  260022000.0  12.678085\n",
              "2012-01-05  14.948214  14.738214  14.819643  14.929643  271269600.0  12.818838\n",
              "2012-01-06  15.098214  14.972143  14.991786  15.085714  318292800.0  12.952841\n",
              "2012-01-09  15.276786  15.048214  15.196429  15.061786  394024400.0  12.932299\n",
              "...               ...        ...        ...        ...          ...        ...\n",
              "2019-12-11  67.775002  67.125000  67.202499  67.692497   78756800.0  66.799057\n",
              "2019-12-12  68.139999  66.830002  66.945000  67.864998  137310400.0  66.969292\n",
              "2019-12-13  68.824997  67.732498  67.864998  68.787498  133587600.0  67.879601\n",
              "2019-12-16  70.197502  69.245003  69.250000  69.964996  128186000.0  69.041557\n",
              "2019-12-17  70.442497  69.699997  69.892502  70.102501  114158400.0  69.177261\n",
              "\n",
              "[2003 rows x 6 columns]"
            ]
          },
          "metadata": {},
          "execution_count": 4
        }
      ]
    },
    {
      "cell_type": "code",
      "metadata": {
        "colab": {
          "base_uri": "https://localhost:8080/"
        },
        "id": "rwwT8jlZSnIH",
        "outputId": "1d7e500c-6afe-43c7-ad17-c1bef10a10eb"
      },
      "source": [
        "df.info()"
      ],
      "execution_count": 5,
      "outputs": [
        {
          "output_type": "stream",
          "text": [
            "<class 'pandas.core.frame.DataFrame'>\n",
            "DatetimeIndex: 2003 entries, 2012-01-03 to 2019-12-17\n",
            "Data columns (total 6 columns):\n",
            " #   Column     Non-Null Count  Dtype  \n",
            "---  ------     --------------  -----  \n",
            " 0   High       2003 non-null   float64\n",
            " 1   Low        2003 non-null   float64\n",
            " 2   Open       2003 non-null   float64\n",
            " 3   Close      2003 non-null   float64\n",
            " 4   Volume     2003 non-null   float64\n",
            " 5   Adj Close  2003 non-null   float64\n",
            "dtypes: float64(6)\n",
            "memory usage: 109.5 KB\n"
          ],
          "name": "stdout"
        }
      ]
    },
    {
      "cell_type": "code",
      "metadata": {
        "colab": {
          "base_uri": "https://localhost:8080/"
        },
        "id": "8U3tY3qXSwvj",
        "outputId": "8907f70d-fc54-4efe-cb0a-e7f22e4c8f7c"
      },
      "source": [
        "df.columns"
      ],
      "execution_count": 6,
      "outputs": [
        {
          "output_type": "execute_result",
          "data": {
            "text/plain": [
              "Index(['High', 'Low', 'Open', 'Close', 'Volume', 'Adj Close'], dtype='object')"
            ]
          },
          "metadata": {},
          "execution_count": 6
        }
      ]
    },
    {
      "cell_type": "code",
      "metadata": {
        "colab": {
          "base_uri": "https://localhost:8080/"
        },
        "id": "bwCqRPf5VG38",
        "outputId": "7558c419-8095-4cb0-ff37-d8fcab2033f1"
      },
      "source": [
        "df.isnull().sum()"
      ],
      "execution_count": 7,
      "outputs": [
        {
          "output_type": "execute_result",
          "data": {
            "text/plain": [
              "High         0\n",
              "Low          0\n",
              "Open         0\n",
              "Close        0\n",
              "Volume       0\n",
              "Adj Close    0\n",
              "dtype: int64"
            ]
          },
          "metadata": {},
          "execution_count": 7
        }
      ]
    },
    {
      "cell_type": "markdown",
      "metadata": {
        "id": "8lcrPviQS0wT"
      },
      "source": [
        "# Data Visualization"
      ]
    },
    {
      "cell_type": "code",
      "metadata": {
        "colab": {
          "base_uri": "https://localhost:8080/",
          "height": 322
        },
        "id": "vKoCoYkpS1oZ",
        "outputId": "b74476e6-9e01-4a63-8bfd-84125f8d2cde"
      },
      "source": [
        "plt.plot(df['Close'])\n",
        "plt.xlabel('Year', fontsize=15)\n",
        "plt.ylabel('Close Price in $', fontsize=15)\n",
        "plt.title('Close Price')\n",
        "plt.show()"
      ],
      "execution_count": 8,
      "outputs": [
        {
          "output_type": "display_data",
          "data": {
            "image/png": "[encoded data removed]",
            "text/plain": [
              "<Figure size 432x288 with 1 Axes>"
            ]
          },
          "metadata": {}
        }
      ]
    },
    {
      "cell_type": "markdown",
      "metadata": {
        "id": "zTn9F15uS9cf"
      },
      "source": [
        " **Observation**"
      ]
    },
    {
      "cell_type": "markdown",
      "metadata": {
        "id": "Vk92PWUXTDw8"
      },
      "source": [
        "The trend fluctuate during the period but still it rise and at the peak in the year 2020 as compared to rest of the years.\n"
      ]
    },
    {
      "cell_type": "markdown",
      "metadata": {
        "id": "xJ12l43xTK3V"
      },
      "source": [
        "# Split Dataset"
      ]
    },
    {
      "cell_type": "code",
      "metadata": {
        "colab": {
          "base_uri": "https://localhost:8080/"
        },
        "id": "VVlPqKH2TLu9",
        "outputId": "11ce074e-01e7-4ad8-900c-4dce5b123024"
      },
      "source": [
        "data = df.filter(['Close'])\n",
        "dataset = data.values\n",
        "training_data_len = math.ceil(len(dataset)* .8)\n",
        "training_data_len"
      ],
      "execution_count": 9,
      "outputs": [
        {
          "output_type": "execute_result",
          "data": {
            "text/plain": [
              "1603"
            ]
          },
          "metadata": {},
          "execution_count": 9
        }
      ]
    },
    {
      "cell_type": "code",
      "metadata": {
        "colab": {
          "base_uri": "https://localhost:8080/"
        },
        "id": "XYxHnG56TQML",
        "outputId": "0718596a-2e61-4de5-e01b-59c26416cce7"
      },
      "source": [
        "# scaling\n",
        "scaler = MinMaxScaler(feature_range=(0,1))\n",
        "scaled_data = scaler.fit_transform(dataset)\n",
        "print(scaled_data.shape)\n",
        "print(scaled_data)"
      ],
      "execution_count": 10,
      "outputs": [
        {
          "output_type": "stream",
          "text": [
            "(2003, 1)\n",
            "[[0.01316509]\n",
            " [0.01457063]\n",
            " [0.01748985]\n",
            " ...\n",
            " [0.97658263]\n",
            " [0.99755134]\n",
            " [1.        ]]\n"
          ],
          "name": "stdout"
        }
      ]
    },
    {
      "cell_type": "code",
      "metadata": {
        "colab": {
          "base_uri": "https://localhost:8080/"
        },
        "id": "BzGyXiMoTTc_",
        "outputId": "4439a7e3-eadc-411a-90c7-04f12cdc442e"
      },
      "source": [
        "train_data = scaled_data[0:training_data_len, :]\n",
        "print(len(train_data))\n",
        "x_train, y_train = [], []\n",
        "\n",
        "for i in range(100, len(train_data)):\n",
        "  x_train.append(train_data[i-100:i, 0])\n",
        "  y_train.append(train_data[i,0])\n",
        "  if i<=101:\n",
        "    print(x_train)\n",
        "    print(y_train)"
      ],
      "execution_count": 11,
      "outputs": [
        {
          "output_type": "stream",
          "text": [
            "1603\n",
            "[array([0.01316509, 0.01457063, 0.01748985, 0.02026915, 0.01984303,\n",
            "       0.02080338, 0.02036454, 0.01962679, 0.01862191, 0.02173194,\n",
            "       0.02453668, 0.02367172, 0.01893355, 0.02345548, 0.01900352,\n",
            "       0.03569838, 0.03440732, 0.0360927 , 0.03973694, 0.04194384,\n",
            "       0.0417594 , 0.0410789 , 0.04397903, 0.04670744, 0.04979839,\n",
            "       0.05479095, 0.0652785 , 0.06543749, 0.07127594, 0.07563885,\n",
            "       0.06814049, 0.07102789, 0.07097066, 0.07906688, 0.07791571,\n",
            "       0.08004628, 0.08387497, 0.08600558, 0.09214292, 0.09661394,\n",
            "       0.09790501, 0.09835659, 0.09071194, 0.08886753, 0.08914103,\n",
            "       0.09632778, 0.09835024, 0.10269409, 0.11293358, 0.12659476,\n",
            "       0.12403805, 0.1240444 , 0.13392141, 0.13701237, 0.13481179,\n",
            "       0.13280207, 0.13070964, 0.13766105, 0.14243103, 0.14442805,\n",
            "       0.13949272, 0.13293563, 0.14507041, 0.15186917, 0.14868284,\n",
            "       0.15464214, 0.1562639 , 0.15130952, 0.14988489, 0.14770341,\n",
            "       0.13654806, 0.12058461, 0.13939096, 0.13852602, 0.12523371,\n",
            "       0.11603724, 0.11522315, 0.10796011, 0.13958174, 0.13811897,\n",
            "       0.13512978, 0.12303317, 0.1218566 , 0.12430516, 0.12165943,\n",
            "       0.111121  , 0.11381126, 0.11298446, 0.11362044, 0.11447267,\n",
            "       0.11204956, 0.10664995, 0.10343818, 0.09892898, 0.08877851,\n",
            "       0.08894386, 0.10859608, 0.10585498, 0.11449815, 0.11116553])]\n",
            "[0.10923844534122418]\n",
            "[array([0.01316509, 0.01457063, 0.01748985, 0.02026915, 0.01984303,\n",
            "       0.02080338, 0.02036454, 0.01962679, 0.01862191, 0.02173194,\n",
            "       0.02453668, 0.02367172, 0.01893355, 0.02345548, 0.01900352,\n",
            "       0.03569838, 0.03440732, 0.0360927 , 0.03973694, 0.04194384,\n",
            "       0.0417594 , 0.0410789 , 0.04397903, 0.04670744, 0.04979839,\n",
            "       0.05479095, 0.0652785 , 0.06543749, 0.07127594, 0.07563885,\n",
            "       0.06814049, 0.07102789, 0.07097066, 0.07906688, 0.07791571,\n",
            "       0.08004628, 0.08387497, 0.08600558, 0.09214292, 0.09661394,\n",
            "       0.09790501, 0.09835659, 0.09071194, 0.08886753, 0.08914103,\n",
            "       0.09632778, 0.09835024, 0.10269409, 0.11293358, 0.12659476,\n",
            "       0.12403805, 0.1240444 , 0.13392141, 0.13701237, 0.13481179,\n",
            "       0.13280207, 0.13070964, 0.13766105, 0.14243103, 0.14442805,\n",
            "       0.13949272, 0.13293563, 0.14507041, 0.15186917, 0.14868284,\n",
            "       0.15464214, 0.1562639 , 0.15130952, 0.14988489, 0.14770341,\n",
            "       0.13654806, 0.12058461, 0.13939096, 0.13852602, 0.12523371,\n",
            "       0.11603724, 0.11522315, 0.10796011, 0.13958174, 0.13811897,\n",
            "       0.13512978, 0.12303317, 0.1218566 , 0.12430516, 0.12165943,\n",
            "       0.111121  , 0.11381126, 0.11298446, 0.11362044, 0.11447267,\n",
            "       0.11204956, 0.10664995, 0.10343818, 0.09892898, 0.08877851,\n",
            "       0.08894386, 0.10859608, 0.10585498, 0.11449815, 0.11116553]), array([0.01457063, 0.01748985, 0.02026915, 0.01984303, 0.02080338,\n",
            "       0.02036454, 0.01962679, 0.01862191, 0.02173194, 0.02453668,\n",
            "       0.02367172, 0.01893355, 0.02345548, 0.01900352, 0.03569838,\n",
            "       0.03440732, 0.0360927 , 0.03973694, 0.04194384, 0.0417594 ,\n",
            "       0.0410789 , 0.04397903, 0.04670744, 0.04979839, 0.05479095,\n",
            "       0.0652785 , 0.06543749, 0.07127594, 0.07563885, 0.06814049,\n",
            "       0.07102789, 0.07097066, 0.07906688, 0.07791571, 0.08004628,\n",
            "       0.08387497, 0.08600558, 0.09214292, 0.09661394, 0.09790501,\n",
            "       0.09835659, 0.09071194, 0.08886753, 0.08914103, 0.09632778,\n",
            "       0.09835024, 0.10269409, 0.11293358, 0.12659476, 0.12403805,\n",
            "       0.1240444 , 0.13392141, 0.13701237, 0.13481179, 0.13280207,\n",
            "       0.13070964, 0.13766105, 0.14243103, 0.14442805, 0.13949272,\n",
            "       0.13293563, 0.14507041, 0.15186917, 0.14868284, 0.15464214,\n",
            "       0.1562639 , 0.15130952, 0.14988489, 0.14770341, 0.13654806,\n",
            "       0.12058461, 0.13939096, 0.13852602, 0.12523371, 0.11603724,\n",
            "       0.11522315, 0.10796011, 0.13958174, 0.13811897, 0.13512978,\n",
            "       0.12303317, 0.1218566 , 0.12430516, 0.12165943, 0.111121  ,\n",
            "       0.11381126, 0.11298446, 0.11362044, 0.11447267, 0.11204956,\n",
            "       0.10664995, 0.10343818, 0.09892898, 0.08877851, 0.08894386,\n",
            "       0.10859608, 0.10585498, 0.11449815, 0.11116553, 0.10923845])]\n",
            "[0.10923844534122418, 0.11558566539293841]\n"
          ],
          "name": "stdout"
        }
      ]
    },
    {
      "cell_type": "code",
      "metadata": {
        "colab": {
          "base_uri": "https://localhost:8080/"
        },
        "id": "MNz9xaoKTXje",
        "outputId": "1f301dcb-b5a8-4447-907a-d69111ba717d"
      },
      "source": [
        "test_data = scaled_data[training_data_len: , :]\n",
        "print(len(test_data))\n",
        "x_test, y_test = [], []\n",
        "\n",
        "for i in range(100, len(test_data)):\n",
        "  x_test.append(test_data[i-100:i, 0])\n",
        "  y_test.append(train_data[i,0])\n",
        "  if i<=101:\n",
        "    print(x_test)\n",
        "    print(y_test)"
      ],
      "execution_count": 12,
      "outputs": [
        {
          "output_type": "stream",
          "text": [
            "400\n",
            "[array([0.5840976 , 0.58107023, 0.58694685, 0.58485443, 0.59019677,\n",
            "       0.58926183, 0.59117621, 0.58814884, 0.58636808, 0.58356332,\n",
            "       0.59856648, 0.60564509, 0.61223397, 0.61521678, 0.61290181,\n",
            "       0.60506631, 0.60297388, 0.60764846, 0.60061435, 0.60105957,\n",
            "       0.59233369, 0.59188854, 0.57831003, 0.58191611, 0.5772861 ,\n",
            "       0.574882  , 0.5626391 , 0.57270052, 0.57149854, 0.57746415,\n",
            "       0.57572789, 0.58494342, 0.57043004, 0.57701893, 0.58846051,\n",
            "       0.60008013, 0.5990562 , 0.58805984, 0.6020835 , 0.6034191 ,\n",
            "       0.60154929, 0.60395332, 0.59927874, 0.6058677 , 0.60390882,\n",
            "       0.60466565, 0.61085388, 0.61895648, 0.61624078, 0.60186089,\n",
            "       0.59709732, 0.59878902, 0.64869556, 0.67491762, 0.67758883,\n",
            "       0.68239696, 0.67367108, 0.67429435, 0.68155107, 0.6755409 ,\n",
            "       0.68150651, 0.68542426, 0.68760575, 0.7013178 , 0.72028314,\n",
            "       0.710845  , 0.70897512, 0.70901968, 0.71097855, 0.71396136,\n",
            "       0.72188585, 0.72972128, 0.74432371, 0.75345025, 0.76502538,\n",
            "       0.7682753 , 0.76164185, 0.744858  , 0.73684445, 0.72362211,\n",
            "       0.74819697, 0.73582052, 0.75959398, 0.74815241, 0.72161874,\n",
            "       0.72322145, 0.72380016, 0.73119044, 0.72063931, 0.7345739 ,\n",
            "       0.74080669, 0.7329267 , 0.75309409, 0.75661118, 0.76337811,\n",
            "       0.7723711 , 0.78479211, 0.76662809, 0.75015578, 0.7478408 ])]\n",
            "[0.10923844534122418]\n",
            "[array([0.5840976 , 0.58107023, 0.58694685, 0.58485443, 0.59019677,\n",
            "       0.58926183, 0.59117621, 0.58814884, 0.58636808, 0.58356332,\n",
            "       0.59856648, 0.60564509, 0.61223397, 0.61521678, 0.61290181,\n",
            "       0.60506631, 0.60297388, 0.60764846, 0.60061435, 0.60105957,\n",
            "       0.59233369, 0.59188854, 0.57831003, 0.58191611, 0.5772861 ,\n",
            "       0.574882  , 0.5626391 , 0.57270052, 0.57149854, 0.57746415,\n",
            "       0.57572789, 0.58494342, 0.57043004, 0.57701893, 0.58846051,\n",
            "       0.60008013, 0.5990562 , 0.58805984, 0.6020835 , 0.6034191 ,\n",
            "       0.60154929, 0.60395332, 0.59927874, 0.6058677 , 0.60390882,\n",
            "       0.60466565, 0.61085388, 0.61895648, 0.61624078, 0.60186089,\n",
            "       0.59709732, 0.59878902, 0.64869556, 0.67491762, 0.67758883,\n",
            "       0.68239696, 0.67367108, 0.67429435, 0.68155107, 0.6755409 ,\n",
            "       0.68150651, 0.68542426, 0.68760575, 0.7013178 , 0.72028314,\n",
            "       0.710845  , 0.70897512, 0.70901968, 0.71097855, 0.71396136,\n",
            "       0.72188585, 0.72972128, 0.74432371, 0.75345025, 0.76502538,\n",
            "       0.7682753 , 0.76164185, 0.744858  , 0.73684445, 0.72362211,\n",
            "       0.74819697, 0.73582052, 0.75959398, 0.74815241, 0.72161874,\n",
            "       0.72322145, 0.72380016, 0.73119044, 0.72063931, 0.7345739 ,\n",
            "       0.74080669, 0.7329267 , 0.75309409, 0.75661118, 0.76337811,\n",
            "       0.7723711 , 0.78479211, 0.76662809, 0.75015578, 0.7478408 ]), array([0.58107023, 0.58694685, 0.58485443, 0.59019677, 0.58926183,\n",
            "       0.59117621, 0.58814884, 0.58636808, 0.58356332, 0.59856648,\n",
            "       0.60564509, 0.61223397, 0.61521678, 0.61290181, 0.60506631,\n",
            "       0.60297388, 0.60764846, 0.60061435, 0.60105957, 0.59233369,\n",
            "       0.59188854, 0.57831003, 0.58191611, 0.5772861 , 0.574882  ,\n",
            "       0.5626391 , 0.57270052, 0.57149854, 0.57746415, 0.57572789,\n",
            "       0.58494342, 0.57043004, 0.57701893, 0.58846051, 0.60008013,\n",
            "       0.5990562 , 0.58805984, 0.6020835 , 0.6034191 , 0.60154929,\n",
            "       0.60395332, 0.59927874, 0.6058677 , 0.60390882, 0.60466565,\n",
            "       0.61085388, 0.61895648, 0.61624078, 0.60186089, 0.59709732,\n",
            "       0.59878902, 0.64869556, 0.67491762, 0.67758883, 0.68239696,\n",
            "       0.67367108, 0.67429435, 0.68155107, 0.6755409 , 0.68150651,\n",
            "       0.68542426, 0.68760575, 0.7013178 , 0.72028314, 0.710845  ,\n",
            "       0.70897512, 0.70901968, 0.71097855, 0.71396136, 0.72188585,\n",
            "       0.72972128, 0.74432371, 0.75345025, 0.76502538, 0.7682753 ,\n",
            "       0.76164185, 0.744858  , 0.73684445, 0.72362211, 0.74819697,\n",
            "       0.73582052, 0.75959398, 0.74815241, 0.72161874, 0.72322145,\n",
            "       0.72380016, 0.73119044, 0.72063931, 0.7345739 , 0.74080669,\n",
            "       0.7329267 , 0.75309409, 0.75661118, 0.76337811, 0.7723711 ,\n",
            "       0.78479211, 0.76662809, 0.75015578, 0.7478408 , 0.76164185])]\n",
            "[0.10923844534122418, 0.11558566539293841]\n"
          ],
          "name": "stdout"
        }
      ]
    },
    {
      "cell_type": "code",
      "metadata": {
        "colab": {
          "base_uri": "https://localhost:8080/"
        },
        "id": "GcuhMvXkTbvC",
        "outputId": "989f138f-0b4b-403e-88cb-c66323963de4"
      },
      "source": [
        "x_train, y_train = np.array(x_train), np.array(y_train)\n",
        "print(x_train.shape, y_train.shape)"
      ],
      "execution_count": 13,
      "outputs": [
        {
          "output_type": "stream",
          "text": [
            "(1503, 100) (1503,)\n"
          ],
          "name": "stdout"
        }
      ]
    },
    {
      "cell_type": "code",
      "metadata": {
        "colab": {
          "base_uri": "https://localhost:8080/"
        },
        "id": "WWYXAhiRTetP",
        "outputId": "8e8ac432-779f-40d9-c58c-88e0e5de5409"
      },
      "source": [
        "x_test, y_test = np.array(x_test), np.array(y_test)\n",
        "print(x_test.shape, y_test.shape)"
      ],
      "execution_count": 14,
      "outputs": [
        {
          "output_type": "stream",
          "text": [
            "(300, 100) (300,)\n"
          ],
          "name": "stdout"
        }
      ]
    },
    {
      "cell_type": "markdown",
      "metadata": {
        "id": "iI-yhKYJTkSD"
      },
      "source": [
        "#RNN model"
      ]
    },
    {
      "cell_type": "code",
      "metadata": {
        "id": "p1JPRVYpTlSb"
      },
      "source": [
        "model = Sequential()\n",
        "model.add(LSTM(50, return_sequences=True, input_shape = (x_train.shape[1], 1)))\n",
        "model.add(LSTM(50, return_sequences=True))\n",
        "model.add(LSTM(50))\n",
        "model.add(Dense(1))\n",
        "model.compile(loss='mean_squared_error',optimizer='adam')"
      ],
      "execution_count": 23,
      "outputs": []
    },
    {
      "cell_type": "code",
      "metadata": {
        "id": "uF1dELkjRt09"
      },
      "source": [
        "x_train = np.reshape(x_train,(x_train.shape[0],x_train.shape[1],1))"
      ],
      "execution_count": 24,
      "outputs": []
    },
    {
      "cell_type": "code",
      "metadata": {
        "id": "JTJHbMNJSgjc"
      },
      "source": [
        "x_test = np.reshape(x_test,(x_test.shape[0],x_test.shape[1],1))"
      ],
      "execution_count": 25,
      "outputs": []
    },
    {
      "cell_type": "code",
      "metadata": {
        "id": "Gu9V90pzUt7S"
      },
      "source": [
        "train_predictions = model.predict(x_train)\n",
        "test_predictions = model.predict(x_test)"
      ],
      "execution_count": 26,
      "outputs": []
    },
    {
      "cell_type": "code",
      "metadata": {
        "id": "72NdZXSJVy66"
      },
      "source": [
        "train_predictions = scaler.inverse_transform(train_predictions)\n",
        "test_predictions = scaler.inverse_transform(test_predictions)"
      ],
      "execution_count": 27,
      "outputs": []
    },
    {
      "cell_type": "code",
      "metadata": {
        "id": "Ix7AT0BAV2td",
        "colab": {
          "base_uri": "https://localhost:8080/"
        },
        "outputId": "0888c599-3c4a-4f97-d82f-c3ab336eae02"
      },
      "source": [
        "rm1 = np.sqrt(mean_squared_error(y_train,train_predictions))\n",
        "rm1"
      ],
      "execution_count": 28,
      "outputs": [
        {
          "output_type": "execute_result",
          "data": {
            "text/plain": [
              "14.036845114267116"
            ]
          },
          "metadata": {},
          "execution_count": 28
        }
      ]
    },
    {
      "cell_type": "code",
      "metadata": {
        "id": "k8x23ttTV5QM",
        "colab": {
          "base_uri": "https://localhost:8080/"
        },
        "outputId": "ca165bac-7145-4792-b0c9-42fd1e688707"
      },
      "source": [
        "rm2 = np.sqrt(mean_squared_error(y_test,test_predictions))\n",
        "rm2"
      ],
      "execution_count": 29,
      "outputs": [
        {
          "output_type": "execute_result",
          "data": {
            "text/plain": [
              "14.660998921136548"
            ]
          },
          "metadata": {},
          "execution_count": 29
        }
      ]
    },
    {
      "cell_type": "code",
      "metadata": {
        "id": "bX5wz-6YV9GF",
        "colab": {
          "base_uri": "https://localhost:8080/"
        },
        "outputId": "ea90d659-08e3-4084-88ad-d917fc99602a"
      },
      "source": [
        "print(train_predictions.shape, test_predictions.shape)\n"
      ],
      "execution_count": 30,
      "outputs": [
        {
          "output_type": "stream",
          "text": [
            "(1503, 1) (300, 1)\n"
          ],
          "name": "stdout"
        }
      ]
    },
    {
      "cell_type": "code",
      "metadata": {
        "id": "ER1pThqWWHW9",
        "colab": {
          "base_uri": "https://localhost:8080/"
        },
        "outputId": "b17b96ef-b11d-4158-b4e1-0a4bc01412ff"
      },
      "source": [
        "math.sqrt(mean_squared_error(y_train,train_predictions))"
      ],
      "execution_count": 31,
      "outputs": [
        {
          "output_type": "execute_result",
          "data": {
            "text/plain": [
              "14.036845114267116"
            ]
          },
          "metadata": {},
          "execution_count": 31
        }
      ]
    },
    {
      "cell_type": "code",
      "metadata": {
        "id": "XUWjS1CiWJR9",
        "colab": {
          "base_uri": "https://localhost:8080/"
        },
        "outputId": "f9462c34-7bda-4abd-8217-9a2524bd17ff"
      },
      "source": [
        "math.sqrt(mean_squared_error(y_test,test_predictions))"
      ],
      "execution_count": 32,
      "outputs": [
        {
          "output_type": "execute_result",
          "data": {
            "text/plain": [
              "14.660998921136548"
            ]
          },
          "metadata": {},
          "execution_count": 32
        }
      ]
    },
    {
      "cell_type": "markdown",
      "metadata": {
        "id": "OMOrhD87WSbl"
      },
      "source": [
        "#Plot the Graph(Predicted stocks)\n"
      ]
    },
    {
      "cell_type": "code",
      "metadata": {
        "id": "HzXtBwt5WWBZ",
        "colab": {
          "base_uri": "https://localhost:8080/",
          "height": 303
        },
        "outputId": "d97e6c51-a41c-4dd2-817e-b7f8b4878427"
      },
      "source": [
        "# train predictions\n",
        "trainPredictPlot = np.empty_like(dataset)\n",
        "trainPredictPlot[:, :] = np.nan\n",
        "trainPredictPlot[100:len(train_predictions)+100, :] = train_predictions\n",
        "# test predictions\n",
        "testPredictPlot = np.empty_like(dataset)\n",
        "testPredictPlot[:] = np.nan\n",
        "testPredictPlot[len(train_predictions)+(100*2):len(dataset), :] = test_predictions\n",
        "plt.title('RNN model LSTM')\n",
        "plt.ylabel('Close Price in $', fontsize = 20)\n",
        "\n",
        "plt.plot(dataset)\n",
        "plt.plot(trainPredictPlot)\n",
        "plt.plot(testPredictPlot)\n",
        "plt.legend(['Data', 'Train', 'Predictions'], loc='lower right')\n",
        "plt.show()"
      ],
      "execution_count": 33,
      "outputs": [
        {
          "output_type": "display_data",
          "data": {
            "image/png": "[encoded data removed]",
            "text/plain": [
              "<Figure size 432x288 with 1 Axes>"
            ]
          },
          "metadata": {}
        }
      ]
    }
  ]
}